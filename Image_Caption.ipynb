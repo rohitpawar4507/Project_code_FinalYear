{
  "nbformat": 4,
  "nbformat_minor": 0,
  "metadata": {
    "colab": {
      "name": "Image_Caption.ipynb",
      "provenance": [],
      "collapsed_sections": [],
      "mount_file_id": "1Z_lQtcy1s_lS02Rbk7TgPwAHtRr9wQLg",
      "authorship_tag": "ABX9TyNltHRfPHKQPq6RONlpA6n9",
      "include_colab_link": true
    },
    "kernelspec": {
      "name": "python3",
      "display_name": "Python 3"
    },
    "language_info": {
      "name": "python"
    }
  },
  "cells": [
    {
      "cell_type": "markdown",
      "metadata": {
        "id": "view-in-github",
        "colab_type": "text"
      },
      "source": [
        "<a href=\"https://colab.research.google.com/github/rohitpawar4507/Project_code_FinalYear/blob/main/Image_Caption.ipynb\" target=\"_parent\"><img src=\"https://colab.research.google.com/assets/colab-badge.svg\" alt=\"Open In Colab\"/></a>"
      ]
    },
    {
      "cell_type": "markdown",
      "source": [
        "**Image Caption Generator**"
      ],
      "metadata": {
        "id": "CN1wQjiqK2go"
      }
    },
    {
      "cell_type": "code",
      "source": [
        "# Import the Google Drive on colab notebook"
      ],
      "metadata": {
        "id": "34DSuPWNK4if"
      },
      "execution_count": 1,
      "outputs": []
    },
    {
      "cell_type": "code",
      "source": [
        "from google.colab import drive\n",
        "drive.mount('/content/drive')"
      ],
      "metadata": {
        "colab": {
          "base_uri": "https://localhost:8080/",
          "height": 0
        },
        "id": "zmueOyltK7DK",
        "outputId": "f9b18cd4-47d2-4b34-9382-f5aaa5e4cc92"
      },
      "execution_count": 2,
      "outputs": [
        {
          "output_type": "stream",
          "name": "stdout",
          "text": [
            "Drive already mounted at /content/drive; to attempt to forcibly remount, call drive.mount(\"/content/drive\", force_remount=True).\n"
          ]
        }
      ]
    },
    {
      "cell_type": "code",
      "source": [
        "# Import the library"
      ],
      "metadata": {
        "id": "AGNGwq2RLVSn"
      },
      "execution_count": 3,
      "outputs": []
    },
    {
      "cell_type": "code",
      "source": [
        "from os import listdir\n",
        "from pickle import dump\n",
        "from keras.applications.vgg16 import VGG16\n",
        "from keras.preprocessing.image import load_img\n",
        "from keras.preprocessing.image import img_to_array\n",
        "from keras.applications.vgg16 import preprocess_input\n",
        "from keras.models import Model"
      ],
      "metadata": {
        "id": "lpSL0t5_LX2-"
      },
      "execution_count": 4,
      "outputs": []
    },
    {
      "cell_type": "markdown",
      "source": [
        "**Preprocess image**"
      ],
      "metadata": {
        "id": "A4OtOvxPLiVT"
      }
    },
    {
      "cell_type": "code",
      "source": [
        "# extrat Features\n",
        "def extract_features(directory):\n",
        "    \n",
        "    model = VGG16()\n",
        "    \n",
        "    #remove last layer\n",
        "    model.layers.pop()\n",
        "    \n",
        "    model = Model(inputs = model.inputs , outputs = model.layers[-1].output)\n",
        "    \n",
        "    print(model.summary())\n",
        "    \n",
        "    features = dict()\n",
        "    \n",
        "    for name in listdir(directory):\n",
        "        \n",
        "        # load and image\n",
        "        filename = directory + '/' + name\n",
        "        image = load_img(filename , target_size=(224 , 224))\n",
        "        \n",
        "        image = img_to_array(image)\n",
        "        \n",
        "        image = image.reshape((1 , image.shape[0] , image.shape[1] ,image.shape[2]))\n",
        "        \n",
        "        image = preprocess_input(image)\n",
        "        \n",
        "        feature = model.predict(image , verbose = 0)\n",
        "        \n",
        "        # get image id\n",
        "        image_id = name.split(\".\")[0]\n",
        "        \n",
        "        # store features\n",
        "        features[image_id] = feature\n",
        "        \n",
        "        print(name)\n",
        "        \n",
        "    return features"
      ],
      "metadata": {
        "id": "P8oxvJf7Lm3C"
      },
      "execution_count": 5,
      "outputs": []
    },
    {
      "cell_type": "code",
      "source": [
        " directory = '/content/drive/MyDrive/Dataset/flickr30k_dataset'\n",
        " features = extract_features(directory)\n",
        " print('extracted features :',len(features))\n",
        " dump(features , open('features.pkl' , 'wb'))"
      ],
      "metadata": {
        "colab": {
          "base_uri": "https://localhost:8080/",
          "height": 0
        },
        "id": "tfxEG06lLyft",
        "outputId": "8f548f9a-07c8-4dca-fc99-e5c5f609981d"
      },
      "execution_count": 9,
      "outputs": [
        {
          "output_type": "stream",
          "name": "stdout",
          "text": [
            "Model: \"model_1\"\n",
            "_________________________________________________________________\n",
            " Layer (type)                Output Shape              Param #   \n",
            "=================================================================\n",
            " input_2 (InputLayer)        [(None, 224, 224, 3)]     0         \n",
            "                                                                 \n",
            " block1_conv1 (Conv2D)       (None, 224, 224, 64)      1792      \n",
            "                                                                 \n",
            " block1_conv2 (Conv2D)       (None, 224, 224, 64)      36928     \n",
            "                                                                 \n",
            " block1_pool (MaxPooling2D)  (None, 112, 112, 64)      0         \n",
            "                                                                 \n",
            " block2_conv1 (Conv2D)       (None, 112, 112, 128)     73856     \n",
            "                                                                 \n",
            " block2_conv2 (Conv2D)       (None, 112, 112, 128)     147584    \n",
            "                                                                 \n",
            " block2_pool (MaxPooling2D)  (None, 56, 56, 128)       0         \n",
            "                                                                 \n",
            " block3_conv1 (Conv2D)       (None, 56, 56, 256)       295168    \n",
            "                                                                 \n",
            " block3_conv2 (Conv2D)       (None, 56, 56, 256)       590080    \n",
            "                                                                 \n",
            " block3_conv3 (Conv2D)       (None, 56, 56, 256)       590080    \n",
            "                                                                 \n",
            " block3_pool (MaxPooling2D)  (None, 28, 28, 256)       0         \n",
            "                                                                 \n",
            " block4_conv1 (Conv2D)       (None, 28, 28, 512)       1180160   \n",
            "                                                                 \n",
            " block4_conv2 (Conv2D)       (None, 28, 28, 512)       2359808   \n",
            "                                                                 \n",
            " block4_conv3 (Conv2D)       (None, 28, 28, 512)       2359808   \n",
            "                                                                 \n",
            " block4_pool (MaxPooling2D)  (None, 14, 14, 512)       0         \n",
            "                                                                 \n",
            " block5_conv1 (Conv2D)       (None, 14, 14, 512)       2359808   \n",
            "                                                                 \n",
            " block5_conv2 (Conv2D)       (None, 14, 14, 512)       2359808   \n",
            "                                                                 \n",
            " block5_conv3 (Conv2D)       (None, 14, 14, 512)       2359808   \n",
            "                                                                 \n",
            " block5_pool (MaxPooling2D)  (None, 7, 7, 512)         0         \n",
            "                                                                 \n",
            " flatten (Flatten)           (None, 25088)             0         \n",
            "                                                                 \n",
            " fc1 (Dense)                 (None, 4096)              102764544 \n",
            "                                                                 \n",
            " fc2 (Dense)                 (None, 4096)              16781312  \n",
            "                                                                 \n",
            " predictions (Dense)         (None, 1000)              4097000   \n",
            "                                                                 \n",
            "=================================================================\n",
            "Total params: 138,357,544\n",
            "Trainable params: 138,357,544\n",
            "Non-trainable params: 0\n",
            "_________________________________________________________________\n",
            "None\n",
            "1243756.jpg\n",
            "1254659.jpg\n",
            "1283466.jpg\n",
            "1317156.jpg\n",
            "134206.jpg\n",
            "1369162.jpg\n",
            "1440465.jpg\n",
            "148284.jpg\n",
            "1624481.jpg\n",
            "178045.jpg\n",
            "1920465.jpg\n",
            "1989609.jpg\n",
            "205842.jpg\n",
            "2069887.jpg\n",
            "2148982.jpg\n",
            "2209317.jpg\n",
            "2192573.jpg\n",
            "2209751.jpg\n",
            "2285664.jpg\n",
            "2317271.jpg\n",
            "256063.jpg\n",
            "2656351.jpg\n",
            "2689611.jpg\n",
            "2760167.jpg\n",
            "2784746.jpg\n",
            "2806447.jpg\n",
            "2868798.jpg\n",
            "3001353.jpg\n",
            "3012229.jpg\n",
            "3025093.jpg\n",
            "301246.jpg\n",
            "3035057.jpg\n",
            "3043766.jpg\n",
            "3160699.jpg\n",
            "3219606.jpg\n",
            "3367399.jpg\n",
            "3494059.jpg\n",
            "353913.jpg\n",
            "3537322.jpg\n",
            "3637013.jpg\n",
            "3662865.jpg\n",
            "3680138.jpg\n",
            "36979.jpg\n",
            "371902.jpg\n",
            "371903.jpg\n",
            "371897.jpg\n",
            "3734864.jpg\n",
            "3765589.jpg\n",
            "3753939.jpg\n",
            "3787801.jpg\n",
            "390369.jpg\n",
            "3996401.jpg\n",
            "4135695.jpg\n",
            "4183120.jpg\n",
            "4162702.jpg\n",
            "4199555.jpg\n",
            "4280272.jpg\n",
            "4307968.jpg\n",
            "4376178.jpg\n",
            "4386588.jpg\n",
            "4378823.jpg\n",
            "4414061.jpg\n",
            "4413714.jpg\n",
            "438106.jpg\n",
            "4429660.jpg\n",
            "4489731.jpg\n",
            "4515460.jpg\n",
            "4576671.jpg\n",
            "4749855.jpg\n",
            "4906946.jpg\n",
            "490870.jpg\n",
            "4926723.jpg\n",
            "4985704.jpg\n",
            "5060753.jpg\n",
            "5104045.jpg\n",
            "5088155.jpg\n",
            "5217116.jpg\n",
            "574181.jpg\n",
            "65567.jpg\n",
            "675153.jpg\n",
            "667626.jpg\n",
            "726414.jpg\n",
            "764507.jpg\n",
            "793558.jpg\n",
            "807129.jpg\n",
            "81641.jpg\n",
            "854749.jpg\n",
            "881336.jpg\n",
            "960092.jpg\n",
            "984950.jpg\n",
            "extracted features : 90\n"
          ]
        }
      ]
    },
    {
      "cell_type": "markdown",
      "source": [
        "**Create Vocabulary from Images**"
      ],
      "metadata": {
        "id": "W4dnFfFML8ez"
      }
    },
    {
      "cell_type": "code",
      "source": [
        "import pandas as pd\n",
        "import nltk\n",
        "import re\n",
        "from nltk.stem import WordNetLemmatizer"
      ],
      "metadata": {
        "id": "Xlmv_uhdL9oD"
      },
      "execution_count": 10,
      "outputs": []
    },
    {
      "cell_type": "code",
      "source": [
        "lemma = WordNetLemmatizer()\n",
        "\n",
        "def load_decriptions(doc):\n",
        "    mapping = dict()\n",
        "    \n",
        "    for i in range(len(doc)):\n",
        "        image_id = doc['image_id'][i]\n",
        "        image_desc = doc['desc'][i]\n",
        "        \n",
        "        if image_id not in mapping:\n",
        "            mapping[image_id] = list()\n",
        "        \n",
        "        mapping[image_id].append(image_desc)\n",
        "        \n",
        "    return mapping\n",
        "\n",
        "def clean_text(desc):\n",
        "    \n",
        "    # clean punctuation\n",
        "    desc = re.sub(r'[^\\w\\s]' ,'', desc)\n",
        "    \n",
        "    # tokenize the words\n",
        "    desc = desc.split()\n",
        "    \n",
        "    # convert to lower case\n",
        "    desc = [token.lower() for token in desc]\n",
        "    \n",
        "    # lemmatization\n",
        "    desc = [lemma.lemmatize(token) for token in desc]\n",
        "    \n",
        "    # remove numerical values\n",
        "    desc = [token for token in desc if token.isalpha()]\n",
        "    \n",
        "    # join whole token\n",
        "    desc = ' '.join(desc)\n",
        "    \n",
        "    return desc"
      ],
      "metadata": {
        "id": "7mKBDjW0MnPe"
      },
      "execution_count": 11,
      "outputs": []
    },
    {
      "cell_type": "code",
      "source": [
        "# convert loaded descriptions into vocablury\n",
        "def to_vocabluary(descriptions):\n",
        "    all_desc = set()\n",
        "    \n",
        "    for key in descriptions.keys():\n",
        "        [all_desc.update(d.split()) for d in descriptions[key]]\n",
        "        \n",
        "    return all_desc\n",
        "\n",
        "def save_descriptions(descriptions , filename):\n",
        "    lines = list()\n",
        "    \n",
        "    for key , desc_list in descriptions.items():\n",
        "        for desc in desc_list:\n",
        "            lines.append(key +' '+ desc)\n",
        "            \n",
        "    data = '\\n'.join(lines)\n",
        "    file = open(filename , 'w')\n",
        "    file.write(data)\n",
        "    file.close() "
      ],
      "metadata": {
        "id": "9LLVfe7UMp6R"
      },
      "execution_count": 12,
      "outputs": []
    },
    {
      "cell_type": "code",
      "source": [
        "descriptions = pd.read_csv('/content/drive/MyDrive/Dataset/results.csv' , sep='|')"
      ],
      "metadata": {
        "id": "ywG5osLxMv8b"
      },
      "execution_count": 14,
      "outputs": []
    },
    {
      "cell_type": "code",
      "source": [
        "descriptions.columns = ['image_id','no','desc']"
      ],
      "metadata": {
        "id": "vRYKhtdsM3Ry"
      },
      "execution_count": 15,
      "outputs": []
    },
    {
      "cell_type": "code",
      "source": [
        "descriptions.head()"
      ],
      "metadata": {
        "colab": {
          "base_uri": "https://localhost:8080/",
          "height": 206
        },
        "id": "-AaTpziHM6B0",
        "outputId": "9d935e3f-be24-4e1d-8199-5369e8408378"
      },
      "execution_count": 16,
      "outputs": [
        {
          "output_type": "execute_result",
          "data": {
            "text/html": [
              "\n",
              "  <div id=\"df-bce368a6-7294-4507-af86-07d0a715a072\">\n",
              "    <div class=\"colab-df-container\">\n",
              "      <div>\n",
              "<style scoped>\n",
              "    .dataframe tbody tr th:only-of-type {\n",
              "        vertical-align: middle;\n",
              "    }\n",
              "\n",
              "    .dataframe tbody tr th {\n",
              "        vertical-align: top;\n",
              "    }\n",
              "\n",
              "    .dataframe thead th {\n",
              "        text-align: right;\n",
              "    }\n",
              "</style>\n",
              "<table border=\"1\" class=\"dataframe\">\n",
              "  <thead>\n",
              "    <tr style=\"text-align: right;\">\n",
              "      <th></th>\n",
              "      <th>image_id</th>\n",
              "      <th>no</th>\n",
              "      <th>desc</th>\n",
              "    </tr>\n",
              "  </thead>\n",
              "  <tbody>\n",
              "    <tr>\n",
              "      <th>0</th>\n",
              "      <td>1000092795.jpg</td>\n",
              "      <td>0</td>\n",
              "      <td>Two young guys with shaggy hair look at their...</td>\n",
              "    </tr>\n",
              "    <tr>\n",
              "      <th>1</th>\n",
              "      <td>1000092795.jpg</td>\n",
              "      <td>1</td>\n",
              "      <td>Two young , White males are outside near many...</td>\n",
              "    </tr>\n",
              "    <tr>\n",
              "      <th>2</th>\n",
              "      <td>1000092795.jpg</td>\n",
              "      <td>2</td>\n",
              "      <td>Two men in green shirts are standing in a yard .</td>\n",
              "    </tr>\n",
              "    <tr>\n",
              "      <th>3</th>\n",
              "      <td>1000092795.jpg</td>\n",
              "      <td>3</td>\n",
              "      <td>A man in a blue shirt standing in a garden .</td>\n",
              "    </tr>\n",
              "    <tr>\n",
              "      <th>4</th>\n",
              "      <td>1000092795.jpg</td>\n",
              "      <td>4</td>\n",
              "      <td>Two friends enjoy time spent together .</td>\n",
              "    </tr>\n",
              "  </tbody>\n",
              "</table>\n",
              "</div>\n",
              "      <button class=\"colab-df-convert\" onclick=\"convertToInteractive('df-bce368a6-7294-4507-af86-07d0a715a072')\"\n",
              "              title=\"Convert this dataframe to an interactive table.\"\n",
              "              style=\"display:none;\">\n",
              "        \n",
              "  <svg xmlns=\"http://www.w3.org/2000/svg\" height=\"24px\"viewBox=\"0 0 24 24\"\n",
              "       width=\"24px\">\n",
              "    <path d=\"M0 0h24v24H0V0z\" fill=\"none\"/>\n",
              "    <path d=\"M18.56 5.44l.94 2.06.94-2.06 2.06-.94-2.06-.94-.94-2.06-.94 2.06-2.06.94zm-11 1L8.5 8.5l.94-2.06 2.06-.94-2.06-.94L8.5 2.5l-.94 2.06-2.06.94zm10 10l.94 2.06.94-2.06 2.06-.94-2.06-.94-.94-2.06-.94 2.06-2.06.94z\"/><path d=\"M17.41 7.96l-1.37-1.37c-.4-.4-.92-.59-1.43-.59-.52 0-1.04.2-1.43.59L10.3 9.45l-7.72 7.72c-.78.78-.78 2.05 0 2.83L4 21.41c.39.39.9.59 1.41.59.51 0 1.02-.2 1.41-.59l7.78-7.78 2.81-2.81c.8-.78.8-2.07 0-2.86zM5.41 20L4 18.59l7.72-7.72 1.47 1.35L5.41 20z\"/>\n",
              "  </svg>\n",
              "      </button>\n",
              "      \n",
              "  <style>\n",
              "    .colab-df-container {\n",
              "      display:flex;\n",
              "      flex-wrap:wrap;\n",
              "      gap: 12px;\n",
              "    }\n",
              "\n",
              "    .colab-df-convert {\n",
              "      background-color: #E8F0FE;\n",
              "      border: none;\n",
              "      border-radius: 50%;\n",
              "      cursor: pointer;\n",
              "      display: none;\n",
              "      fill: #1967D2;\n",
              "      height: 32px;\n",
              "      padding: 0 0 0 0;\n",
              "      width: 32px;\n",
              "    }\n",
              "\n",
              "    .colab-df-convert:hover {\n",
              "      background-color: #E2EBFA;\n",
              "      box-shadow: 0px 1px 2px rgba(60, 64, 67, 0.3), 0px 1px 3px 1px rgba(60, 64, 67, 0.15);\n",
              "      fill: #174EA6;\n",
              "    }\n",
              "\n",
              "    [theme=dark] .colab-df-convert {\n",
              "      background-color: #3B4455;\n",
              "      fill: #D2E3FC;\n",
              "    }\n",
              "\n",
              "    [theme=dark] .colab-df-convert:hover {\n",
              "      background-color: #434B5C;\n",
              "      box-shadow: 0px 1px 3px 1px rgba(0, 0, 0, 0.15);\n",
              "      filter: drop-shadow(0px 1px 2px rgba(0, 0, 0, 0.3));\n",
              "      fill: #FFFFFF;\n",
              "    }\n",
              "  </style>\n",
              "\n",
              "      <script>\n",
              "        const buttonEl =\n",
              "          document.querySelector('#df-bce368a6-7294-4507-af86-07d0a715a072 button.colab-df-convert');\n",
              "        buttonEl.style.display =\n",
              "          google.colab.kernel.accessAllowed ? 'block' : 'none';\n",
              "\n",
              "        async function convertToInteractive(key) {\n",
              "          const element = document.querySelector('#df-bce368a6-7294-4507-af86-07d0a715a072');\n",
              "          const dataTable =\n",
              "            await google.colab.kernel.invokeFunction('convertToInteractive',\n",
              "                                                     [key], {});\n",
              "          if (!dataTable) return;\n",
              "\n",
              "          const docLinkHtml = 'Like what you see? Visit the ' +\n",
              "            '<a target=\"_blank\" href=https://colab.research.google.com/notebooks/data_table.ipynb>data table notebook</a>'\n",
              "            + ' to learn more about interactive tables.';\n",
              "          element.innerHTML = '';\n",
              "          dataTable['output_type'] = 'display_data';\n",
              "          await google.colab.output.renderOutput(dataTable, element);\n",
              "          const docLink = document.createElement('div');\n",
              "          docLink.innerHTML = docLinkHtml;\n",
              "          element.appendChild(docLink);\n",
              "        }\n",
              "      </script>\n",
              "    </div>\n",
              "  </div>\n",
              "  "
            ],
            "text/plain": [
              "         image_id  no                                               desc\n",
              "0  1000092795.jpg   0   Two young guys with shaggy hair look at their...\n",
              "1  1000092795.jpg   1   Two young , White males are outside near many...\n",
              "2  1000092795.jpg   2   Two men in green shirts are standing in a yard .\n",
              "3  1000092795.jpg   3       A man in a blue shirt standing in a garden .\n",
              "4  1000092795.jpg   4            Two friends enjoy time spent together ."
            ]
          },
          "metadata": {},
          "execution_count": 16
        }
      ]
    },
    {
      "cell_type": "code",
      "source": [
        "import nltk"
      ],
      "metadata": {
        "id": "b5h4OpVaNCdM"
      },
      "execution_count": 18,
      "outputs": []
    },
    {
      "cell_type": "code",
      "source": [
        "nltk.download('wordnet')"
      ],
      "metadata": {
        "colab": {
          "base_uri": "https://localhost:8080/",
          "height": 0
        },
        "id": "okB24CTuNNew",
        "outputId": "0fb86d01-a013-4841-d21d-13b1f84ebe6a"
      },
      "execution_count": 19,
      "outputs": [
        {
          "output_type": "stream",
          "name": "stdout",
          "text": [
            "[nltk_data] Downloading package wordnet to /root/nltk_data...\n",
            "[nltk_data]   Unzipping corpora/wordnet.zip.\n"
          ]
        },
        {
          "output_type": "execute_result",
          "data": {
            "text/plain": [
              "True"
            ]
          },
          "metadata": {},
          "execution_count": 19
        }
      ]
    },
    {
      "cell_type": "code",
      "source": [
        "descriptions['desc'] = descriptions['desc'].apply(lambda x : clean_text(str(x)))"
      ],
      "metadata": {
        "id": "eq4ruRwyNPaz"
      },
      "execution_count": 20,
      "outputs": []
    },
    {
      "cell_type": "code",
      "source": [
        "type(descriptions['desc'][0])"
      ],
      "metadata": {
        "colab": {
          "base_uri": "https://localhost:8080/",
          "height": 0
        },
        "id": "zx-BBsaANRBM",
        "outputId": "1504597f-243f-49f9-ba81-b99949e88195"
      },
      "execution_count": 21,
      "outputs": [
        {
          "output_type": "execute_result",
          "data": {
            "text/plain": [
              "str"
            ]
          },
          "metadata": {},
          "execution_count": 21
        }
      ]
    },
    {
      "cell_type": "code",
      "source": [
        "desc_map = load_decriptions(descriptions) # image name with Its captions"
      ],
      "metadata": {
        "id": "yJyMeu3RNUpQ"
      },
      "execution_count": 22,
      "outputs": []
    },
    {
      "cell_type": "code",
      "source": [
        "vocabulary = to_vocabluary(desc_map)"
      ],
      "metadata": {
        "id": "uyzRlvuNNYTu"
      },
      "execution_count": 23,
      "outputs": []
    },
    {
      "cell_type": "code",
      "source": [
        "len(vocabulary)"
      ],
      "metadata": {
        "colab": {
          "base_uri": "https://localhost:8080/",
          "height": 0
        },
        "id": "j-hZGtVdNdRJ",
        "outputId": "4d22ce2c-2be5-43ee-c497-ff4505cb503a"
      },
      "execution_count": 24,
      "outputs": [
        {
          "output_type": "execute_result",
          "data": {
            "text/plain": [
              "16874"
            ]
          },
          "metadata": {},
          "execution_count": 24
        }
      ]
    },
    {
      "cell_type": "code",
      "source": [
        "save_descriptions(desc_map , 'descriptions.txt')"
      ],
      "metadata": {
        "id": "gOg261U2Ng05"
      },
      "execution_count": 25,
      "outputs": []
    },
    {
      "cell_type": "markdown",
      "source": [
        "**Train Set**"
      ],
      "metadata": {
        "id": "d4yPmY72Nzxb"
      }
    },
    {
      "cell_type": "code",
      "source": [
        "from pickle import load\n",
        "import pickle\n",
        "from pickle import dump\n"
      ],
      "metadata": {
        "id": "DzgJmKRzN1d6"
      },
      "execution_count": 26,
      "outputs": []
    },
    {
      "cell_type": "code",
      "source": [
        "# loading the doc\n",
        "def load_doc(filename):\n",
        "    file = open(filename , 'r')\n",
        "    text = file.read()\n",
        "    file.close()\n",
        "    return text\n",
        "\n",
        "# this function is used for to get train image description from our dataset\n",
        "\n",
        "def load_clean_descriptions(filename , dataset):\n",
        "    doc = load_doc(filename)\n",
        "    descriptions = dict()\n",
        "    \n",
        "    for line in doc.split('\\n'):\n",
        "        tokens = line.split()\n",
        "        image_id , image_desc = tokens[0] , tokens[1:]\n",
        "        \n",
        "        if image_id in dataset:\n",
        "            \n",
        "            if image_id not in descriptions:\n",
        "                descriptions[image_id] = list()\n",
        "            \n",
        "            # we add two tage at start and at end of the descitpion to identify to start and \n",
        "            # end of desc.\n",
        "            desc = 'startseq '+ ' '.join(image_desc)+ ' endseq'\n",
        "            descriptions[image_id].append(desc)\n",
        "            \n",
        "    return descriptions\n",
        "\n",
        "\n",
        "# laod photo features\n",
        "def load_photo_features(filename , dataset):\n",
        "    all_features = load(open(filename,'rb'))\n",
        "    features = {k+'.jpg' : all_features[k] for k in dataset}\n",
        "    return features"
      ],
      "metadata": {
        "id": "U5fq5bDAN-2P"
      },
      "execution_count": 27,
      "outputs": []
    },
    {
      "cell_type": "code",
      "source": [
        "train = set(descriptions['image_id'][:127125])\n",
        "print('len of train image',len(train))"
      ],
      "metadata": {
        "colab": {
          "base_uri": "https://localhost:8080/"
        },
        "id": "PZZpB_Y5OAZY",
        "outputId": "88c0dc3e-e3e2-4157-8eee-8ccc9f4e109a"
      },
      "execution_count": 28,
      "outputs": [
        {
          "output_type": "stream",
          "name": "stdout",
          "text": [
            "len of train image 25425\n"
          ]
        }
      ]
    },
    {
      "cell_type": "code",
      "source": [
        "# traininset makinng and set startseq and endseq tag in descriptions\n",
        "train_descriptions = load_clean_descriptions('descriptions.txt' , train) "
      ],
      "metadata": {
        "id": "Nn0Cd0MtODIV"
      },
      "execution_count": 29,
      "outputs": []
    },
    {
      "cell_type": "code",
      "source": [
        "print('len of train descriptions' , len(train_descriptions))"
      ],
      "metadata": {
        "colab": {
          "base_uri": "https://localhost:8080/"
        },
        "id": "T0vUHYSNOHy4",
        "outputId": "176ad379-e1f9-4d6c-b13c-4f7b644e07fd"
      },
      "execution_count": 30,
      "outputs": [
        {
          "output_type": "stream",
          "name": "stdout",
          "text": [
            "len of train descriptions 25425\n"
          ]
        }
      ]
    },
    {
      "cell_type": "code",
      "source": [
        "train = pd.DataFrame(train)"
      ],
      "metadata": {
        "id": "hDA9SRGDOKOH"
      },
      "execution_count": 31,
      "outputs": []
    },
    {
      "cell_type": "code",
      "source": [
        "train2 = train[0].apply(lambda x : x.replace('.jpg' , '')) # remove jpg sign"
      ],
      "metadata": {
        "id": "t0viaqGuOMUg"
      },
      "execution_count": 32,
      "outputs": []
    },
    {
      "cell_type": "code",
      "source": [
        "# train features means feautures from training images\n",
        "train_features = load_photo_features('features.pkl' , train2)\n",
        "print('photos train :',len(train_features))"
      ],
      "metadata": {
        "colab": {
          "base_uri": "https://localhost:8080/",
          "height": 328
        },
        "id": "iCeAWiXxOQd3",
        "outputId": "ccb6fb8f-e1d2-4ef6-ea81-32c2a2f3ff06"
      },
      "execution_count": 35,
      "outputs": [
        {
          "output_type": "error",
          "ename": "KeyError",
          "evalue": "ignored",
          "traceback": [
            "\u001b[0;31m---------------------------------------------------------------------------\u001b[0m",
            "\u001b[0;31mKeyError\u001b[0m                                  Traceback (most recent call last)",
            "\u001b[0;32m<ipython-input-35-5b5d448bb27f>\u001b[0m in \u001b[0;36m<module>\u001b[0;34m()\u001b[0m\n\u001b[1;32m      1\u001b[0m \u001b[0;31m# train features means feautures from training images\u001b[0m\u001b[0;34m\u001b[0m\u001b[0;34m\u001b[0m\u001b[0;34m\u001b[0m\u001b[0m\n\u001b[0;32m----> 2\u001b[0;31m \u001b[0mtrain_features\u001b[0m \u001b[0;34m=\u001b[0m \u001b[0mload_photo_features\u001b[0m\u001b[0;34m(\u001b[0m\u001b[0;34m'features.pkl'\u001b[0m \u001b[0;34m,\u001b[0m \u001b[0mtrain2\u001b[0m\u001b[0;34m)\u001b[0m\u001b[0;34m\u001b[0m\u001b[0;34m\u001b[0m\u001b[0m\n\u001b[0m\u001b[1;32m      3\u001b[0m \u001b[0mprint\u001b[0m\u001b[0;34m(\u001b[0m\u001b[0;34m'photos train :'\u001b[0m\u001b[0;34m,\u001b[0m\u001b[0mlen\u001b[0m\u001b[0;34m(\u001b[0m\u001b[0mtrain_features\u001b[0m\u001b[0;34m)\u001b[0m\u001b[0;34m)\u001b[0m\u001b[0;34m\u001b[0m\u001b[0;34m\u001b[0m\u001b[0m\n",
            "\u001b[0;32m<ipython-input-27-04b7aa14dc70>\u001b[0m in \u001b[0;36mload_photo_features\u001b[0;34m(filename, dataset)\u001b[0m\n\u001b[1;32m     32\u001b[0m \u001b[0;32mdef\u001b[0m \u001b[0mload_photo_features\u001b[0m\u001b[0;34m(\u001b[0m\u001b[0mfilename\u001b[0m \u001b[0;34m,\u001b[0m \u001b[0mdataset\u001b[0m\u001b[0;34m)\u001b[0m\u001b[0;34m:\u001b[0m\u001b[0;34m\u001b[0m\u001b[0;34m\u001b[0m\u001b[0m\n\u001b[1;32m     33\u001b[0m     \u001b[0mall_features\u001b[0m \u001b[0;34m=\u001b[0m \u001b[0mload\u001b[0m\u001b[0;34m(\u001b[0m\u001b[0mopen\u001b[0m\u001b[0;34m(\u001b[0m\u001b[0mfilename\u001b[0m\u001b[0;34m,\u001b[0m\u001b[0;34m'rb'\u001b[0m\u001b[0;34m)\u001b[0m\u001b[0;34m)\u001b[0m\u001b[0;34m\u001b[0m\u001b[0;34m\u001b[0m\u001b[0m\n\u001b[0;32m---> 34\u001b[0;31m     \u001b[0mfeatures\u001b[0m \u001b[0;34m=\u001b[0m \u001b[0;34m{\u001b[0m\u001b[0mk\u001b[0m\u001b[0;34m+\u001b[0m\u001b[0;34m'.jpg'\u001b[0m \u001b[0;34m:\u001b[0m \u001b[0mall_features\u001b[0m\u001b[0;34m[\u001b[0m\u001b[0mk\u001b[0m\u001b[0;34m]\u001b[0m \u001b[0;32mfor\u001b[0m \u001b[0mk\u001b[0m \u001b[0;32min\u001b[0m \u001b[0mdataset\u001b[0m\u001b[0;34m}\u001b[0m\u001b[0;34m\u001b[0m\u001b[0;34m\u001b[0m\u001b[0m\n\u001b[0m\u001b[1;32m     35\u001b[0m     \u001b[0;32mreturn\u001b[0m \u001b[0mfeatures\u001b[0m\u001b[0;34m\u001b[0m\u001b[0;34m\u001b[0m\u001b[0m\n",
            "\u001b[0;32m<ipython-input-27-04b7aa14dc70>\u001b[0m in \u001b[0;36m<dictcomp>\u001b[0;34m(.0)\u001b[0m\n\u001b[1;32m     32\u001b[0m \u001b[0;32mdef\u001b[0m \u001b[0mload_photo_features\u001b[0m\u001b[0;34m(\u001b[0m\u001b[0mfilename\u001b[0m \u001b[0;34m,\u001b[0m \u001b[0mdataset\u001b[0m\u001b[0;34m)\u001b[0m\u001b[0;34m:\u001b[0m\u001b[0;34m\u001b[0m\u001b[0;34m\u001b[0m\u001b[0m\n\u001b[1;32m     33\u001b[0m     \u001b[0mall_features\u001b[0m \u001b[0;34m=\u001b[0m \u001b[0mload\u001b[0m\u001b[0;34m(\u001b[0m\u001b[0mopen\u001b[0m\u001b[0;34m(\u001b[0m\u001b[0mfilename\u001b[0m\u001b[0;34m,\u001b[0m\u001b[0;34m'rb'\u001b[0m\u001b[0;34m)\u001b[0m\u001b[0;34m)\u001b[0m\u001b[0;34m\u001b[0m\u001b[0;34m\u001b[0m\u001b[0m\n\u001b[0;32m---> 34\u001b[0;31m     \u001b[0mfeatures\u001b[0m \u001b[0;34m=\u001b[0m \u001b[0;34m{\u001b[0m\u001b[0mk\u001b[0m\u001b[0;34m+\u001b[0m\u001b[0;34m'.jpg'\u001b[0m \u001b[0;34m:\u001b[0m \u001b[0mall_features\u001b[0m\u001b[0;34m[\u001b[0m\u001b[0mk\u001b[0m\u001b[0;34m]\u001b[0m \u001b[0;32mfor\u001b[0m \u001b[0mk\u001b[0m \u001b[0;32min\u001b[0m \u001b[0mdataset\u001b[0m\u001b[0;34m}\u001b[0m\u001b[0;34m\u001b[0m\u001b[0;34m\u001b[0m\u001b[0m\n\u001b[0m\u001b[1;32m     35\u001b[0m     \u001b[0;32mreturn\u001b[0m \u001b[0mfeatures\u001b[0m\u001b[0;34m\u001b[0m\u001b[0;34m\u001b[0m\u001b[0m\n",
            "\u001b[0;31mKeyError\u001b[0m: '4682929932'"
          ]
        }
      ]
    },
    {
      "cell_type": "code",
      "source": [
        ""
      ],
      "metadata": {
        "id": "815XJEvMOTZY"
      },
      "execution_count": null,
      "outputs": []
    }
  ]
}