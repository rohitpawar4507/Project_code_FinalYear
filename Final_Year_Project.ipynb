{
  "nbformat": 4,
  "nbformat_minor": 0,
  "metadata": {
    "colab": {
      "name": "Final_Year_Project.ipynb",
      "provenance": [],
      "collapsed_sections": [],
      "mount_file_id": "1KVjPWhwUAG0-gLJL7JdXbep8X67BSlye",
      "authorship_tag": "ABX9TyN+OzJXvBQfmWROE48MvtzJ",
      "include_colab_link": true
    },
    "kernelspec": {
      "name": "python3",
      "display_name": "Python 3"
    },
    "language_info": {
      "name": "python"
    }
  },
  "cells": [
    {
      "cell_type": "markdown",
      "metadata": {
        "id": "view-in-github",
        "colab_type": "text"
      },
      "source": [
        "<a href=\"https://colab.research.google.com/github/rohitpawar4507/Project_code_FinalYear/blob/main/Final_Year_Project.ipynb\" target=\"_parent\"><img src=\"https://colab.research.google.com/assets/colab-badge.svg\" alt=\"Open In Colab\"/></a>"
      ]
    },
    {
      "cell_type": "code",
      "execution_count": 98,
      "metadata": {
        "id": "CYa_tGz5tkch"
      },
      "outputs": [],
      "source": [
        "from os import listdir\n",
        "from pickle import dump\n",
        "from keras.applications.vgg16 import VGG16\n",
        "from keras.preprocessing.image import load_img\n",
        "from keras.preprocessing.image import img_to_array\n",
        "from keras.applications.vgg16 import preprocess_input\n",
        "from keras.models import Model"
      ]
    },
    {
      "cell_type": "code",
      "source": [
        "# extrat Features\n",
        "def extract_features(directory):\n",
        "    \n",
        "    model = VGG16()\n",
        "    \n",
        "    #remove last layer\n",
        "    model.layers.pop()\n",
        "    \n",
        "    model = Model(inputs = model.inputs , outputs = model.layers[-1].output)\n",
        "    \n",
        "    print(model.summary())\n",
        "    \n",
        "    features = dict()\n",
        "    \n",
        "    for name in listdir(directory):\n",
        "        \n",
        "        # load and image\n",
        "        filename = directory + '/' + name\n",
        "        image = load_img(filename , target_size=(224 , 224))\n",
        "        \n",
        "        image = img_to_array(image)\n",
        "        \n",
        "        image = image.reshape((1 , image.shape[0] , image.shape[1] ,image.shape[2]))\n",
        "        \n",
        "        image = preprocess_input(image)\n",
        "        \n",
        "        feature = model.predict(image , verbose = 0)\n",
        "        \n",
        "        # get image id\n",
        "        image_id = name.split(\".\")[0]\n",
        "        \n",
        "        # store features\n",
        "        features[image_id] = feature\n",
        "        \n",
        "        print(name)\n",
        "        \n",
        "    return features"
      ],
      "metadata": {
        "id": "piON1rZAuBKH"
      },
      "execution_count": 99,
      "outputs": []
    },
    {
      "cell_type": "code",
      "source": [
        "# directory = 'Dataset/flickr30k_dataset'\n",
        "# features = extract_features(directory)\n",
        "# print('extracted features :',len(features))\n",
        "# dump(features , open('features.pkl' , 'wb'))"
      ],
      "metadata": {
        "id": "4Bwo21UuuKG-"
      },
      "execution_count": 100,
      "outputs": []
    },
    {
      "cell_type": "code",
      "source": [
        "import pandas as pd\n",
        "import nltk\n",
        "import re\n",
        "from nltk.stem import WordNetLemmatizer"
      ],
      "metadata": {
        "id": "5N8BqorouWWP"
      },
      "execution_count": 101,
      "outputs": []
    },
    {
      "cell_type": "code",
      "source": [
        "lemma = WordNetLemmatizer()\n",
        "\n",
        "def load_decriptions(doc):\n",
        "    mapping = dict()\n",
        "    \n",
        "    for i in range(len(doc)):\n",
        "        image_id = doc['image_id'][i]\n",
        "        image_desc = doc['desc'][i]\n",
        "        \n",
        "        if image_id not in mapping:\n",
        "            mapping[image_id] = list()\n",
        "        \n",
        "        mapping[image_id].append(image_desc)\n",
        "        \n",
        "    return mapping\n",
        "\n",
        "def clean_text(desc):\n",
        "    \n",
        "    # clean punctuation\n",
        "    desc = re.sub(r'[^\\w\\s]' ,'', desc)\n",
        "    \n",
        "    # tokenize the words\n",
        "    desc = desc.split()\n",
        "    \n",
        "    # convert to lower case\n",
        "    desc = [token.lower() for token in desc]\n",
        "    \n",
        "    # lemmatization\n",
        "    desc = [lemma.lemmatize(token) for token in desc]\n",
        "    \n",
        "    # remove numerical values\n",
        "    desc = [token for token in desc if token.isalpha()]\n",
        "    \n",
        "    # join whole token\n",
        "    desc = ' '.join(desc)\n",
        "    \n",
        "    return desc"
      ],
      "metadata": {
        "id": "orGKefnRufSr"
      },
      "execution_count": 102,
      "outputs": []
    },
    {
      "cell_type": "code",
      "source": [
        "# convert loaded descriptions into vocablury\n",
        "def to_vocabluary(descriptions):\n",
        "    all_desc = set()\n",
        "    \n",
        "    for key in descriptions.keys():\n",
        "        [all_desc.update(d.split()) for d in descriptions[key]]\n",
        "        \n",
        "    return all_desc\n",
        "\n",
        "def save_descriptions(descriptions , filename):\n",
        "    lines = list()\n",
        "    \n",
        "    for key , desc_list in descriptions.items():\n",
        "        for desc in desc_list:\n",
        "            lines.append(key +' '+ desc)\n",
        "            \n",
        "    data = '\\n'.join(lines)\n",
        "    file = open(filename , 'w')\n",
        "    file.write(data)\n",
        "    file.close()    "
      ],
      "metadata": {
        "id": "io7jX4h1uj1S"
      },
      "execution_count": 103,
      "outputs": []
    },
    {
      "cell_type": "code",
      "source": [
        "from google.colab import drive\n",
        "drive.mount('/content/drive')"
      ],
      "metadata": {
        "colab": {
          "base_uri": "https://localhost:8080/"
        },
        "id": "RgnDqpp5v_BY",
        "outputId": "4ad10a3f-e7fc-4087-9605-965024fb3fb9"
      },
      "execution_count": 104,
      "outputs": [
        {
          "output_type": "stream",
          "name": "stdout",
          "text": [
            "Drive already mounted at /content/drive; to attempt to forcibly remount, call drive.mount(\"/content/drive\", force_remount=True).\n"
          ]
        }
      ]
    },
    {
      "cell_type": "code",
      "source": [
        "descriptions = pd.read_csv('/content/drive/MyDrive/Dataset/results.csv' , sep='|')"
      ],
      "metadata": {
        "id": "eX8QFiArMkZJ"
      },
      "execution_count": 105,
      "outputs": []
    },
    {
      "cell_type": "code",
      "source": [
        "descriptions.columns = ['image_id','no','desc']"
      ],
      "metadata": {
        "id": "eVprq3AKM65i"
      },
      "execution_count": 106,
      "outputs": []
    },
    {
      "cell_type": "code",
      "source": [
        "descriptions.head()"
      ],
      "metadata": {
        "colab": {
          "base_uri": "https://localhost:8080/",
          "height": 206
        },
        "id": "ZWEGLimBMsUz",
        "outputId": "1a4e8a65-56e3-47b8-e0df-99967e3938bc"
      },
      "execution_count": 107,
      "outputs": [
        {
          "output_type": "execute_result",
          "data": {
            "text/html": [
              "\n",
              "  <div id=\"df-f44d4660-7cf1-49b5-9941-b5ba2fa2b99c\">\n",
              "    <div class=\"colab-df-container\">\n",
              "      <div>\n",
              "<style scoped>\n",
              "    .dataframe tbody tr th:only-of-type {\n",
              "        vertical-align: middle;\n",
              "    }\n",
              "\n",
              "    .dataframe tbody tr th {\n",
              "        vertical-align: top;\n",
              "    }\n",
              "\n",
              "    .dataframe thead th {\n",
              "        text-align: right;\n",
              "    }\n",
              "</style>\n",
              "<table border=\"1\" class=\"dataframe\">\n",
              "  <thead>\n",
              "    <tr style=\"text-align: right;\">\n",
              "      <th></th>\n",
              "      <th>image_id</th>\n",
              "      <th>no</th>\n",
              "      <th>desc</th>\n",
              "    </tr>\n",
              "  </thead>\n",
              "  <tbody>\n",
              "    <tr>\n",
              "      <th>0</th>\n",
              "      <td>1000092795.jpg</td>\n",
              "      <td>0</td>\n",
              "      <td>Two young guys with shaggy hair look at their...</td>\n",
              "    </tr>\n",
              "    <tr>\n",
              "      <th>1</th>\n",
              "      <td>1000092795.jpg</td>\n",
              "      <td>1</td>\n",
              "      <td>Two young , White males are outside near many...</td>\n",
              "    </tr>\n",
              "    <tr>\n",
              "      <th>2</th>\n",
              "      <td>1000092795.jpg</td>\n",
              "      <td>2</td>\n",
              "      <td>Two men in green shirts are standing in a yard .</td>\n",
              "    </tr>\n",
              "    <tr>\n",
              "      <th>3</th>\n",
              "      <td>1000092795.jpg</td>\n",
              "      <td>3</td>\n",
              "      <td>A man in a blue shirt standing in a garden .</td>\n",
              "    </tr>\n",
              "    <tr>\n",
              "      <th>4</th>\n",
              "      <td>1000092795.jpg</td>\n",
              "      <td>4</td>\n",
              "      <td>Two friends enjoy time spent together .</td>\n",
              "    </tr>\n",
              "  </tbody>\n",
              "</table>\n",
              "</div>\n",
              "      <button class=\"colab-df-convert\" onclick=\"convertToInteractive('df-f44d4660-7cf1-49b5-9941-b5ba2fa2b99c')\"\n",
              "              title=\"Convert this dataframe to an interactive table.\"\n",
              "              style=\"display:none;\">\n",
              "        \n",
              "  <svg xmlns=\"http://www.w3.org/2000/svg\" height=\"24px\"viewBox=\"0 0 24 24\"\n",
              "       width=\"24px\">\n",
              "    <path d=\"M0 0h24v24H0V0z\" fill=\"none\"/>\n",
              "    <path d=\"M18.56 5.44l.94 2.06.94-2.06 2.06-.94-2.06-.94-.94-2.06-.94 2.06-2.06.94zm-11 1L8.5 8.5l.94-2.06 2.06-.94-2.06-.94L8.5 2.5l-.94 2.06-2.06.94zm10 10l.94 2.06.94-2.06 2.06-.94-2.06-.94-.94-2.06-.94 2.06-2.06.94z\"/><path d=\"M17.41 7.96l-1.37-1.37c-.4-.4-.92-.59-1.43-.59-.52 0-1.04.2-1.43.59L10.3 9.45l-7.72 7.72c-.78.78-.78 2.05 0 2.83L4 21.41c.39.39.9.59 1.41.59.51 0 1.02-.2 1.41-.59l7.78-7.78 2.81-2.81c.8-.78.8-2.07 0-2.86zM5.41 20L4 18.59l7.72-7.72 1.47 1.35L5.41 20z\"/>\n",
              "  </svg>\n",
              "      </button>\n",
              "      \n",
              "  <style>\n",
              "    .colab-df-container {\n",
              "      display:flex;\n",
              "      flex-wrap:wrap;\n",
              "      gap: 12px;\n",
              "    }\n",
              "\n",
              "    .colab-df-convert {\n",
              "      background-color: #E8F0FE;\n",
              "      border: none;\n",
              "      border-radius: 50%;\n",
              "      cursor: pointer;\n",
              "      display: none;\n",
              "      fill: #1967D2;\n",
              "      height: 32px;\n",
              "      padding: 0 0 0 0;\n",
              "      width: 32px;\n",
              "    }\n",
              "\n",
              "    .colab-df-convert:hover {\n",
              "      background-color: #E2EBFA;\n",
              "      box-shadow: 0px 1px 2px rgba(60, 64, 67, 0.3), 0px 1px 3px 1px rgba(60, 64, 67, 0.15);\n",
              "      fill: #174EA6;\n",
              "    }\n",
              "\n",
              "    [theme=dark] .colab-df-convert {\n",
              "      background-color: #3B4455;\n",
              "      fill: #D2E3FC;\n",
              "    }\n",
              "\n",
              "    [theme=dark] .colab-df-convert:hover {\n",
              "      background-color: #434B5C;\n",
              "      box-shadow: 0px 1px 3px 1px rgba(0, 0, 0, 0.15);\n",
              "      filter: drop-shadow(0px 1px 2px rgba(0, 0, 0, 0.3));\n",
              "      fill: #FFFFFF;\n",
              "    }\n",
              "  </style>\n",
              "\n",
              "      <script>\n",
              "        const buttonEl =\n",
              "          document.querySelector('#df-f44d4660-7cf1-49b5-9941-b5ba2fa2b99c button.colab-df-convert');\n",
              "        buttonEl.style.display =\n",
              "          google.colab.kernel.accessAllowed ? 'block' : 'none';\n",
              "\n",
              "        async function convertToInteractive(key) {\n",
              "          const element = document.querySelector('#df-f44d4660-7cf1-49b5-9941-b5ba2fa2b99c');\n",
              "          const dataTable =\n",
              "            await google.colab.kernel.invokeFunction('convertToInteractive',\n",
              "                                                     [key], {});\n",
              "          if (!dataTable) return;\n",
              "\n",
              "          const docLinkHtml = 'Like what you see? Visit the ' +\n",
              "            '<a target=\"_blank\" href=https://colab.research.google.com/notebooks/data_table.ipynb>data table notebook</a>'\n",
              "            + ' to learn more about interactive tables.';\n",
              "          element.innerHTML = '';\n",
              "          dataTable['output_type'] = 'display_data';\n",
              "          await google.colab.output.renderOutput(dataTable, element);\n",
              "          const docLink = document.createElement('div');\n",
              "          docLink.innerHTML = docLinkHtml;\n",
              "          element.appendChild(docLink);\n",
              "        }\n",
              "      </script>\n",
              "    </div>\n",
              "  </div>\n",
              "  "
            ],
            "text/plain": [
              "         image_id  no                                               desc\n",
              "0  1000092795.jpg   0   Two young guys with shaggy hair look at their...\n",
              "1  1000092795.jpg   1   Two young , White males are outside near many...\n",
              "2  1000092795.jpg   2   Two men in green shirts are standing in a yard .\n",
              "3  1000092795.jpg   3       A man in a blue shirt standing in a garden .\n",
              "4  1000092795.jpg   4            Two friends enjoy time spent together ."
            ]
          },
          "metadata": {},
          "execution_count": 107
        }
      ]
    },
    {
      "cell_type": "code",
      "source": [
        "import nltk"
      ],
      "metadata": {
        "id": "COC14iKVOyS8"
      },
      "execution_count": 108,
      "outputs": []
    },
    {
      "cell_type": "code",
      "source": [
        "nltk.download('wordnet')"
      ],
      "metadata": {
        "colab": {
          "base_uri": "https://localhost:8080/"
        },
        "id": "q3TJhYfBOkSw",
        "outputId": "e8c450fd-d152-4c1e-b03a-26ca62e60432"
      },
      "execution_count": 109,
      "outputs": [
        {
          "output_type": "stream",
          "name": "stdout",
          "text": [
            "[nltk_data] Downloading package wordnet to /root/nltk_data...\n",
            "[nltk_data]   Package wordnet is already up-to-date!\n"
          ]
        },
        {
          "output_type": "execute_result",
          "data": {
            "text/plain": [
              "True"
            ]
          },
          "metadata": {},
          "execution_count": 109
        }
      ]
    },
    {
      "cell_type": "code",
      "source": [
        "descriptions['desc'] = descriptions['desc'].apply(lambda x : clean_text(str(x)))"
      ],
      "metadata": {
        "id": "x8rYinJIO4DE"
      },
      "execution_count": 110,
      "outputs": []
    },
    {
      "cell_type": "code",
      "source": [
        "type(descriptions['desc'][0])"
      ],
      "metadata": {
        "colab": {
          "base_uri": "https://localhost:8080/"
        },
        "id": "xBzLcf96O68q",
        "outputId": "0e611a91-78a6-4663-e171-600b3ac2b272"
      },
      "execution_count": 111,
      "outputs": [
        {
          "output_type": "execute_result",
          "data": {
            "text/plain": [
              "str"
            ]
          },
          "metadata": {},
          "execution_count": 111
        }
      ]
    },
    {
      "cell_type": "code",
      "source": [
        "desc_map = load_decriptions(descriptions) # image name with Its captions"
      ],
      "metadata": {
        "id": "n2a-u3gJPB6R"
      },
      "execution_count": 112,
      "outputs": []
    },
    {
      "cell_type": "code",
      "source": [
        "vocabulary = to_vocabluary(desc_map)"
      ],
      "metadata": {
        "id": "xxvjXyPKPFff"
      },
      "execution_count": 113,
      "outputs": []
    },
    {
      "cell_type": "code",
      "source": [
        "len(vocabulary)"
      ],
      "metadata": {
        "colab": {
          "base_uri": "https://localhost:8080/"
        },
        "id": "4DJpp25-PISp",
        "outputId": "34114b3c-29cc-4d24-bc45-a04308a5d3fe"
      },
      "execution_count": 114,
      "outputs": [
        {
          "output_type": "execute_result",
          "data": {
            "text/plain": [
              "16874"
            ]
          },
          "metadata": {},
          "execution_count": 114
        }
      ]
    },
    {
      "cell_type": "code",
      "source": [
        "save_descriptions(desc_map , 'descriptions.txt')"
      ],
      "metadata": {
        "id": "lQNP64aNPK1i"
      },
      "execution_count": 115,
      "outputs": []
    },
    {
      "cell_type": "markdown",
      "source": [
        "# New Section"
      ],
      "metadata": {
        "id": "agP7TvvFVM8H"
      }
    },
    {
      "cell_type": "markdown",
      "source": [
        "**Train Set**"
      ],
      "metadata": {
        "id": "i7jEYefuPQxM"
      }
    },
    {
      "cell_type": "code",
      "source": [
        "from pickle import load\n",
        "import pickle\n",
        "from pickle import dump\n"
      ],
      "metadata": {
        "id": "PcHHTmgZPTUx"
      },
      "execution_count": 163,
      "outputs": []
    },
    {
      "cell_type": "code",
      "source": [
        "# loading the doc\n",
        "def load_doc(filename):\n",
        "    file = open(filename , 'r')\n",
        "    text = file.read()\n",
        "    file.close()\n",
        "    return text\n",
        "\n",
        "# this function is used for to get train image description from our dataset\n",
        "\n",
        "def load_clean_descriptions(filename , dataset):\n",
        "    doc = load_doc(filename)\n",
        "    descriptions = dict()\n",
        "    \n",
        "    for line in doc.split('\\n'):\n",
        "        tokens = line.split()\n",
        "        image_id , image_desc = tokens[0] , tokens[1:]\n",
        "        \n",
        "        if image_id in dataset:\n",
        "            \n",
        "            if image_id not in descriptions:\n",
        "                descriptions[image_id] = list()\n",
        "            \n",
        "            # we add two tage at start and at end of the descitpion to identify to start and \n",
        "            # end of desc.\n",
        "            desc = 'startseq '+ ' '.join(image_desc)+ ' endseq'\n",
        "            descriptions[image_id].append(desc)\n",
        "            \n",
        "    return descriptions\n",
        "\n",
        "\n",
        "# laod photo features\n",
        "def load_photo_features(filename , dataset):\n",
        "    all_features = pickle.load(open(filename,'rb'))\n",
        "    features = {k+'.jpg' : all_features[k] for k in dataset}\n",
        "    return features"
      ],
      "metadata": {
        "id": "29_shJUeWxln"
      },
      "execution_count": 164,
      "outputs": []
    },
    {
      "cell_type": "code",
      "source": [
        "train = set(descriptions['image_id'][:127125])\n",
        "print('len of train image',len(train))"
      ],
      "metadata": {
        "colab": {
          "base_uri": "https://localhost:8080/"
        },
        "id": "2O5vHpymPZrU",
        "outputId": "8aa05e9b-db09-4f0a-e8e2-a6bd982b7086"
      },
      "execution_count": 165,
      "outputs": [
        {
          "output_type": "stream",
          "name": "stdout",
          "text": [
            "len of train image 25425\n"
          ]
        }
      ]
    },
    {
      "cell_type": "code",
      "source": [
        "# traininset makinng and set startseq and endseq tag in descriptions\n",
        "train_descriptions = load_clean_descriptions('descriptions.txt' , train)"
      ],
      "metadata": {
        "id": "6URkimUHPdZu"
      },
      "execution_count": 166,
      "outputs": []
    },
    {
      "cell_type": "code",
      "source": [
        "print('len of train descriptions' , len(train_descriptions))"
      ],
      "metadata": {
        "colab": {
          "base_uri": "https://localhost:8080/"
        },
        "id": "kwBxKJLZPgdC",
        "outputId": "4e5d0c19-2976-4a83-f376-d66106b03bd5"
      },
      "execution_count": 167,
      "outputs": [
        {
          "output_type": "stream",
          "name": "stdout",
          "text": [
            "len of train descriptions 25425\n"
          ]
        }
      ]
    },
    {
      "cell_type": "code",
      "source": [
        "train = pd.DataFrame(train)"
      ],
      "metadata": {
        "id": "yflD_kHSPjzX"
      },
      "execution_count": 168,
      "outputs": []
    },
    {
      "cell_type": "code",
      "source": [
        "train2 = train[0].apply(lambda x : x.replace('.jpg' , '')) # remove jpg sign"
      ],
      "metadata": {
        "id": "lFg39ByaPmRr"
      },
      "execution_count": 169,
      "outputs": []
    },
    {
      "cell_type": "code",
      "source": [
        "# train features means feautures from training images\n",
        "train_features = load_photo_features('features.pkl' , train2)\n",
        "print('photos train :',len(train_features))"
      ],
      "metadata": {
        "id": "iWBLKD0rPslK",
        "colab": {
          "base_uri": "https://localhost:8080/",
          "height": 321
        },
        "outputId": "1054b353-15c2-4539-db71-c5ab2690a9f7"
      },
      "execution_count": 170,
      "outputs": [
        {
          "output_type": "error",
          "ename": "EOFError",
          "evalue": "ignored",
          "traceback": [
            "\u001b[0;31m---------------------------------------------------------------------------\u001b[0m",
            "\u001b[0;31mEOFError\u001b[0m                                  Traceback (most recent call last)",
            "\u001b[0;32m<ipython-input-170-5b5d448bb27f>\u001b[0m in \u001b[0;36m<module>\u001b[0;34m()\u001b[0m\n\u001b[1;32m      1\u001b[0m \u001b[0;31m# train features means feautures from training images\u001b[0m\u001b[0;34m\u001b[0m\u001b[0;34m\u001b[0m\u001b[0;34m\u001b[0m\u001b[0m\n\u001b[0;32m----> 2\u001b[0;31m \u001b[0mtrain_features\u001b[0m \u001b[0;34m=\u001b[0m \u001b[0mload_photo_features\u001b[0m\u001b[0;34m(\u001b[0m\u001b[0;34m'features.pkl'\u001b[0m \u001b[0;34m,\u001b[0m \u001b[0mtrain2\u001b[0m\u001b[0;34m)\u001b[0m\u001b[0;34m\u001b[0m\u001b[0;34m\u001b[0m\u001b[0m\n\u001b[0m\u001b[1;32m      3\u001b[0m \u001b[0mprint\u001b[0m\u001b[0;34m(\u001b[0m\u001b[0;34m'photos train :'\u001b[0m\u001b[0;34m,\u001b[0m\u001b[0mlen\u001b[0m\u001b[0;34m(\u001b[0m\u001b[0mtrain_features\u001b[0m\u001b[0;34m)\u001b[0m\u001b[0;34m)\u001b[0m\u001b[0;34m\u001b[0m\u001b[0;34m\u001b[0m\u001b[0m\n",
            "\u001b[0;32m<ipython-input-164-88b4d1719f1a>\u001b[0m in \u001b[0;36mload_photo_features\u001b[0;34m(filename, dataset)\u001b[0m\n\u001b[1;32m     31\u001b[0m \u001b[0;31m# laod photo features\u001b[0m\u001b[0;34m\u001b[0m\u001b[0;34m\u001b[0m\u001b[0;34m\u001b[0m\u001b[0m\n\u001b[1;32m     32\u001b[0m \u001b[0;32mdef\u001b[0m \u001b[0mload_photo_features\u001b[0m\u001b[0;34m(\u001b[0m\u001b[0mfilename\u001b[0m \u001b[0;34m,\u001b[0m \u001b[0mdataset\u001b[0m\u001b[0;34m)\u001b[0m\u001b[0;34m:\u001b[0m\u001b[0;34m\u001b[0m\u001b[0;34m\u001b[0m\u001b[0m\n\u001b[0;32m---> 33\u001b[0;31m     \u001b[0mall_features\u001b[0m \u001b[0;34m=\u001b[0m \u001b[0mpickle\u001b[0m\u001b[0;34m.\u001b[0m\u001b[0mload\u001b[0m\u001b[0;34m(\u001b[0m\u001b[0mopen\u001b[0m\u001b[0;34m(\u001b[0m\u001b[0mfilename\u001b[0m\u001b[0;34m,\u001b[0m\u001b[0;34m'rb'\u001b[0m\u001b[0;34m)\u001b[0m\u001b[0;34m)\u001b[0m\u001b[0;34m\u001b[0m\u001b[0;34m\u001b[0m\u001b[0m\n\u001b[0m\u001b[1;32m     34\u001b[0m     \u001b[0mfeatures\u001b[0m \u001b[0;34m=\u001b[0m \u001b[0;34m{\u001b[0m\u001b[0mk\u001b[0m\u001b[0;34m+\u001b[0m\u001b[0;34m'.jpg'\u001b[0m \u001b[0;34m:\u001b[0m \u001b[0mall_features\u001b[0m\u001b[0;34m[\u001b[0m\u001b[0mk\u001b[0m\u001b[0;34m]\u001b[0m \u001b[0;32mfor\u001b[0m \u001b[0mk\u001b[0m \u001b[0;32min\u001b[0m \u001b[0mdataset\u001b[0m\u001b[0;34m}\u001b[0m\u001b[0;34m\u001b[0m\u001b[0;34m\u001b[0m\u001b[0m\n\u001b[1;32m     35\u001b[0m     \u001b[0;32mreturn\u001b[0m \u001b[0mfeatures\u001b[0m\u001b[0;34m\u001b[0m\u001b[0;34m\u001b[0m\u001b[0m\n",
            "\u001b[0;31mEOFError\u001b[0m: Ran out of input"
          ]
        }
      ]
    },
    {
      "cell_type": "code",
      "source": [
        "from tensorflow.keras.preprocessing.text import Tokenizer"
      ],
      "metadata": {
        "id": "eD1_1ym_Ycrv"
      },
      "execution_count": 171,
      "outputs": []
    },
    {
      "cell_type": "code",
      "source": [
        "# convert dictonary to lis descriptions\n",
        "\n",
        "def to_lines(descriptions):\n",
        "    all_desc = list()\n",
        "    for key in descriptions.keys():\n",
        "        [all_desc.append(d) for d in descriptions[key]]\n",
        "        \n",
        "    return all_desc\n",
        "\n",
        "# fit tokenizer on descriptions\n",
        "def create_tokenizer(descriptions):\n",
        "    lines = to_lines(descriptions)\n",
        "    tokenizer = Tokenizer()\n",
        "    tokenizer.fit_on_texts(lines)\n",
        "    return tokenizer"
      ],
      "metadata": {
        "id": "TWMBWblbZSj4"
      },
      "execution_count": 172,
      "outputs": []
    },
    {
      "cell_type": "code",
      "source": [
        "tokenizer = create_tokenizer(train_descriptions)\n",
        "vocab_size = len(tokenizer.word_index) + 1\n",
        "print('vocab size' , vocab_size)"
      ],
      "metadata": {
        "colab": {
          "base_uri": "https://localhost:8080/"
        },
        "id": "D4hOfLzCZVG1",
        "outputId": "052f7c1e-8e73-4fa4-834f-45cd4d60559d"
      },
      "execution_count": 182,
      "outputs": [
        {
          "output_type": "stream",
          "name": "stdout",
          "text": [
            "vocab size 14936\n"
          ]
        }
      ]
    },
    {
      "cell_type": "code",
      "source": [
        "from keras.preprocessing.sequence import pad_sequences\n",
        "from tensorflow.keras.utils import to_categorical\n",
        "import numpy as np"
      ],
      "metadata": {
        "id": "sv0S02_NZawl"
      },
      "execution_count": 183,
      "outputs": []
    },
    {
      "cell_type": "code",
      "source": [
        "# calculate the length with most words\n",
        "def max_length(descriptions):\n",
        "    lines = to_lines(descriptions)\n",
        "    return max([len(line.split())for line in lines])\n",
        "    \n",
        "# create sequences of images,input sequences and output sequences\n",
        "def create_sequences(tokenizer , max_length , desc_list , photo):\n",
        "    X1 , X2 , y = list() , list() , list()\n",
        "    \n",
        "    for desc in desc_list:\n",
        "        # convert words to number value\n",
        "        seq = tokenizer.texts_to_sequences([desc])[0]\n",
        "        \n",
        "        for i in range(1, len(seq)):\n",
        "            \n",
        "            in_seq , output_seq = seq[:i] , seq[i]\n",
        "            in_seq = pad_sequences([in_seq] , maxlen = max_length)[0]\n",
        "            output_seq = to_categorical([output_seq] , num_classes = vocab_size)[0]\n",
        "            \n",
        "            X1.append(photo)\n",
        "            X2.append(in_seq)\n",
        "            y.append(output_seq)\n",
        "            \n",
        "    return np.array(X1) , np.array(X2) , np.array(y)"
      ],
      "metadata": {
        "id": "wjM4F-a5Zx4d"
      },
      "execution_count": 184,
      "outputs": []
    },
    {
      "cell_type": "markdown",
      "source": [
        "**VGG16 + LSTM DeepModel**"
      ],
      "metadata": {
        "id": "1HiZ8PmMax_W"
      }
    },
    {
      "cell_type": "code",
      "source": [
        "from keras.models import Model\n",
        "from keras.layers import Input , Dense , LSTM , Embedding , Dropout\n",
        "from keras.layers.merge import add\n",
        "from keras.callbacks import EarlyStopping"
      ],
      "metadata": {
        "id": "7MG4kxWMa1qc"
      },
      "execution_count": 185,
      "outputs": []
    },
    {
      "cell_type": "code",
      "source": [
        "def define_Model(vocab_size , max_length):\n",
        "    \n",
        "    # feature extractor model\n",
        "    inputs1 = Input(shape=(4096 , ))\n",
        "    fe1 = Dropout(0.5)(inputs1)\n",
        "    fe2 = Dense(512 , activation='relu')(fe1)\n",
        "    fe3 = Dense(256 , activation = 'relu')(fe2)\n",
        "    \n",
        "    # sequence model\n",
        "    inputs2 = Input(shape=(max_length,))\n",
        "    se1 = Embedding(vocab_size,512,mask_zero=True )(inputs2) # mask_zero = ignore padding\n",
        "    se2 = Dropout(0.5)(se1)\n",
        "    se3 = LSTM(512 , return_sequences=True)(se2)\n",
        "    se4 = Dropout(0.5)(se3)\n",
        "    se5 = LSTM(256)(se4)\n",
        "    \n",
        "    \n",
        "    #decoder Model\n",
        "    decoder1 = add([fe3 , se5])\n",
        "    decoder2 = Dense(256 , activation='relu')(decoder1)\n",
        "    decoder3 = Dense(512 , activation='relu')(decoder2)\n",
        "    outputs = Dense(vocab_size , activation='softmax')(decoder3)\n",
        "    \n",
        "    # combine both image and text\n",
        "    model = Model([inputs1 , inputs2] , outputs)\n",
        "    model.compile(loss='categorical_crossentropy' , optimizer = 'adam')\n",
        "    \n",
        "    # summary\n",
        "    print(model.summary())\n",
        "    \n",
        "    return model"
      ],
      "metadata": {
        "id": "c2TlWRDEa36G"
      },
      "execution_count": 186,
      "outputs": []
    },
    {
      "cell_type": "markdown",
      "source": [
        "**Data Generator**"
      ],
      "metadata": {
        "id": "AqQnaodybAwC"
      }
    },
    {
      "cell_type": "code",
      "source": [
        "# below code progressivly load the code in batches\n",
        "def data_generator(descriptions , photos , tokenizer , max_length):\n",
        "    while 1:\n",
        "        for key , desc_list in descriptions.items():\n",
        "            photo = photos[key][0]\n",
        "            in_img , in_seq , out_seq = create_sequences(tokenizer , max_length , desc_list , photo)\n",
        "            \n",
        "            yield[[in_img , in_seq] , out_seq]"
      ],
      "metadata": {
        "id": "wUZ4QH5ibCYE"
      },
      "execution_count": 187,
      "outputs": []
    },
    {
      "cell_type": "code",
      "source": [
        "print('len :', len(train))\n",
        "print('Descriptions :',len(train_descriptions))\n",
        "#print('photos train :',len(train_features))\n",
        "print('Vocabulary size :',vocab_size)\n",
        "max_len = max_length(train_descriptions)\n",
        "print('Description max length :', max_len)"
      ],
      "metadata": {
        "colab": {
          "base_uri": "https://localhost:8080/"
        },
        "id": "hf7cgw03bEa5",
        "outputId": "905724b6-8fa0-448a-ffa7-2ed3af4fb0ca"
      },
      "execution_count": 189,
      "outputs": [
        {
          "output_type": "stream",
          "name": "stdout",
          "text": [
            "len : 25425\n",
            "Descriptions : 25425\n",
            "Vocabulary size : 14936\n",
            "Description max length : 80\n"
          ]
        }
      ]
    },
    {
      "cell_type": "code",
      "source": [
        "from keras.models import load_model"
      ],
      "metadata": {
        "id": "s6RoJDdgbHjl"
      },
      "execution_count": 190,
      "outputs": []
    },
    {
      "cell_type": "markdown",
      "source": [
        "**Training Process**"
      ],
      "metadata": {
        "id": "on-xV0WMbY_b"
      }
    },
    {
      "cell_type": "code",
      "source": [
        "model = define_Model(vocab_size , max_len)\n",
        "epochs = 5\n",
        "steps = len(train_descriptions)\n",
        "\n",
        "for i in range(epochs):\n",
        "    generator = data_generator(train_descriptions , train_features , tokenizer , max_len)\n",
        "    \n",
        "    model.fit_generator(generator , epochs = 1 , steps_per_epoch = steps , verbose = 1)\n",
        "    \n",
        "    model.save('model_'+ str(i+1) + '.h5')"
      ],
      "metadata": {
        "colab": {
          "base_uri": "https://localhost:8080/",
          "height": 912
        },
        "id": "wkjuqrpkbay6",
        "outputId": "da395542-f83a-4fdc-df08-5673734bc294"
      },
      "execution_count": 191,
      "outputs": [
        {
          "output_type": "stream",
          "name": "stdout",
          "text": [
            "Model: \"model\"\n",
            "__________________________________________________________________________________________________\n",
            " Layer (type)                   Output Shape         Param #     Connected to                     \n",
            "==================================================================================================\n",
            " input_2 (InputLayer)           [(None, 80)]         0           []                               \n",
            "                                                                                                  \n",
            " embedding (Embedding)          (None, 80, 512)      7647232     ['input_2[0][0]']                \n",
            "                                                                                                  \n",
            " input_1 (InputLayer)           [(None, 4096)]       0           []                               \n",
            "                                                                                                  \n",
            " dropout_1 (Dropout)            (None, 80, 512)      0           ['embedding[0][0]']              \n",
            "                                                                                                  \n",
            " dropout (Dropout)              (None, 4096)         0           ['input_1[0][0]']                \n",
            "                                                                                                  \n",
            " lstm (LSTM)                    (None, 80, 512)      2099200     ['dropout_1[0][0]']              \n",
            "                                                                                                  \n",
            " dense (Dense)                  (None, 512)          2097664     ['dropout[0][0]']                \n",
            "                                                                                                  \n",
            " dropout_2 (Dropout)            (None, 80, 512)      0           ['lstm[0][0]']                   \n",
            "                                                                                                  \n",
            " dense_1 (Dense)                (None, 256)          131328      ['dense[0][0]']                  \n",
            "                                                                                                  \n",
            " lstm_1 (LSTM)                  (None, 256)          787456      ['dropout_2[0][0]']              \n",
            "                                                                                                  \n",
            " add (Add)                      (None, 256)          0           ['dense_1[0][0]',                \n",
            "                                                                  'lstm_1[0][0]']                 \n",
            "                                                                                                  \n",
            " dense_2 (Dense)                (None, 256)          65792       ['add[0][0]']                    \n",
            "                                                                                                  \n",
            " dense_3 (Dense)                (None, 512)          131584      ['dense_2[0][0]']                \n",
            "                                                                                                  \n",
            " dense_4 (Dense)                (None, 14936)        7662168     ['dense_3[0][0]']                \n",
            "                                                                                                  \n",
            "==================================================================================================\n",
            "Total params: 20,622,424\n",
            "Trainable params: 20,622,424\n",
            "Non-trainable params: 0\n",
            "__________________________________________________________________________________________________\n",
            "None\n"
          ]
        },
        {
          "output_type": "error",
          "ename": "NameError",
          "evalue": "ignored",
          "traceback": [
            "\u001b[0;31m---------------------------------------------------------------------------\u001b[0m",
            "\u001b[0;31mNameError\u001b[0m                                 Traceback (most recent call last)",
            "\u001b[0;32m<ipython-input-191-27ed83f6c188>\u001b[0m in \u001b[0;36m<module>\u001b[0;34m()\u001b[0m\n\u001b[1;32m      4\u001b[0m \u001b[0;34m\u001b[0m\u001b[0m\n\u001b[1;32m      5\u001b[0m \u001b[0;32mfor\u001b[0m \u001b[0mi\u001b[0m \u001b[0;32min\u001b[0m \u001b[0mrange\u001b[0m\u001b[0;34m(\u001b[0m\u001b[0mepochs\u001b[0m\u001b[0;34m)\u001b[0m\u001b[0;34m:\u001b[0m\u001b[0;34m\u001b[0m\u001b[0;34m\u001b[0m\u001b[0m\n\u001b[0;32m----> 6\u001b[0;31m     \u001b[0mgenerator\u001b[0m \u001b[0;34m=\u001b[0m \u001b[0mdata_generator\u001b[0m\u001b[0;34m(\u001b[0m\u001b[0mtrain_descriptions\u001b[0m \u001b[0;34m,\u001b[0m \u001b[0mtrain_features\u001b[0m \u001b[0;34m,\u001b[0m \u001b[0mtokenizer\u001b[0m \u001b[0;34m,\u001b[0m \u001b[0mmax_len\u001b[0m\u001b[0;34m)\u001b[0m\u001b[0;34m\u001b[0m\u001b[0;34m\u001b[0m\u001b[0m\n\u001b[0m\u001b[1;32m      7\u001b[0m \u001b[0;34m\u001b[0m\u001b[0m\n\u001b[1;32m      8\u001b[0m     \u001b[0mmodel\u001b[0m\u001b[0;34m.\u001b[0m\u001b[0mfit_generator\u001b[0m\u001b[0;34m(\u001b[0m\u001b[0mgenerator\u001b[0m \u001b[0;34m,\u001b[0m \u001b[0mepochs\u001b[0m \u001b[0;34m=\u001b[0m \u001b[0;36m1\u001b[0m \u001b[0;34m,\u001b[0m \u001b[0msteps_per_epoch\u001b[0m \u001b[0;34m=\u001b[0m \u001b[0msteps\u001b[0m \u001b[0;34m,\u001b[0m \u001b[0mverbose\u001b[0m \u001b[0;34m=\u001b[0m \u001b[0;36m1\u001b[0m\u001b[0;34m)\u001b[0m\u001b[0;34m\u001b[0m\u001b[0;34m\u001b[0m\u001b[0m\n",
            "\u001b[0;31mNameError\u001b[0m: name 'train_features' is not defined"
          ]
        }
      ]
    },
    {
      "cell_type": "markdown",
      "source": [
        "**Bleu Score For Model Evalution**"
      ],
      "metadata": {
        "id": "vhGSS2JCbjiD"
      }
    },
    {
      "cell_type": "code",
      "source": [
        "def word_for_id(integer , tokenizer):\n",
        "    for word,index in tokenizer.word_index.items():\n",
        "        if index == integer:\n",
        "            return word"
      ],
      "metadata": {
        "id": "5UCXaMzubkv7"
      },
      "execution_count": 192,
      "outputs": []
    },
    {
      "cell_type": "code",
      "source": [
        "def generate_desc(model , tokenizer , photo , max_length):\n",
        "    \n",
        "    input_text = 'startseq'\n",
        "    \n",
        "    for i in range(max_length):\n",
        "        \n",
        "        sequence = tokenizer.texts_to_sequences([input_text])[0]\n",
        "        sequence = pad_sequences([sequence] , maxlen=max_length)\n",
        "        \n",
        "        # predict the next word\n",
        "        next_word_id = model.predict([photo,sequence],verbose = 0)\n",
        "        \n",
        "        # get highest probality word from list of words\n",
        "        next_word_id = np.argmax(next_word_id)\n",
        "        \n",
        "        # get word from id\n",
        "        word = word_for_id(next_word_id , tokenizer)\n",
        "        \n",
        "        if word is None:\n",
        "            break\n",
        "            \n",
        "        # update input text\n",
        "        input_text += ' '+ word\n",
        "        \n",
        "        if word == 'endseq':\n",
        "            break\n",
        "            \n",
        "    return input_text"
      ],
      "metadata": {
        "id": "7Fw91XgRbm7_"
      },
      "execution_count": 193,
      "outputs": []
    },
    {
      "cell_type": "code",
      "source": [
        "from nltk.translate.bleu_score import corpus_bleu"
      ],
      "metadata": {
        "id": "iZTQdn2jbt19"
      },
      "execution_count": 194,
      "outputs": []
    },
    {
      "cell_type": "code",
      "source": [
        "def evaluate_model(model , desciptions , photos , tokenizer , max_length):\n",
        "    actual , predicted = list() , list()\n",
        "    \n",
        "    for key , desc_list in desciptions.items():\n",
        "        generated_desc = generate_desc(model , tokenizer , photos[key] , max_length)\n",
        "        \n",
        "        references = [d.split() for d in desc_list]\n",
        "        actual.append(references)\n",
        "        predicted.append(generated_desc.split())\n",
        "    \n",
        "    print('Bleu_Score -1 = %f'%corpus_bleu(actual , predicted , weights=(1,0,0,0)))\n",
        "    \n",
        "    print('Bleu_Score -2 = %f'%corpus_bleu(actual , predicted , weights=(0.5,0.5,0,0)))\n",
        "    \n",
        "    print('Bleu_Score -3 = %f'%corpus_bleu(actual , predicted , weights=(0.33,0.33,0.33,0))) \n",
        "    \n",
        "    print('Bleu_Score -4 = %f'%corpus_bleu(actual , predicted , weights=(0.25,0.25,0.25,0.25)))"
      ],
      "metadata": {
        "id": "--_zlTiUb236"
      },
      "execution_count": 195,
      "outputs": []
    },
    {
      "cell_type": "code",
      "source": [
        "127125+(5000*5) # 5000 images for testing each image has 5 captions so that is calculation"
      ],
      "metadata": {
        "colab": {
          "base_uri": "https://localhost:8080/"
        },
        "id": "IgcH0_3wb3av",
        "outputId": "37f9268c-b6f7-40e3-d6e1-6ebebc32564a"
      },
      "execution_count": 196,
      "outputs": [
        {
          "output_type": "execute_result",
          "data": {
            "text/plain": [
              "152125"
            ]
          },
          "metadata": {},
          "execution_count": 196
        }
      ]
    },
    {
      "cell_type": "code",
      "source": [
        "158915-152125 # reaminng Images total 158915"
      ],
      "metadata": {
        "colab": {
          "base_uri": "https://localhost:8080/"
        },
        "id": "QjxZgDVkb7Bx",
        "outputId": "96b23e9d-d27d-41b6-a1bf-378641469e02"
      },
      "execution_count": 197,
      "outputs": [
        {
          "output_type": "execute_result",
          "data": {
            "text/plain": [
              "6790"
            ]
          },
          "metadata": {},
          "execution_count": 197
        }
      ]
    },
    {
      "cell_type": "markdown",
      "source": [
        "2nd test Dataset"
      ],
      "metadata": {
        "id": "nJWHMFF5cCqk"
      }
    },
    {
      "cell_type": "markdown",
      "source": [
        "**Test Set**"
      ],
      "metadata": {
        "id": "67IOkanHcGbS"
      }
    },
    {
      "cell_type": "code",
      "source": [
        "test = set(descriptions['image_id'][127125:152125])"
      ],
      "metadata": {
        "id": "-Jr4xkW6cIPl"
      },
      "execution_count": 198,
      "outputs": []
    },
    {
      "cell_type": "code",
      "source": [
        "test_descriptions = load_clean_descriptions('descriptions.txt',test)"
      ],
      "metadata": {
        "id": "tuOrZTBrcKrO"
      },
      "execution_count": 199,
      "outputs": []
    },
    {
      "cell_type": "code",
      "source": [
        "test = pd.DataFrame(test)\n",
        "test2 = test[0].apply(lambda x : x.replace('.jpg' , '')) # remove jpg sign"
      ],
      "metadata": {
        "id": "_9mzrEGDcNKD"
      },
      "execution_count": 200,
      "outputs": []
    },
    {
      "cell_type": "code",
      "source": [
        "test_features = load_photo_features('features.pkl',test2)"
      ],
      "metadata": {
        "colab": {
          "base_uri": "https://localhost:8080/",
          "height": 287
        },
        "id": "304OloIUcQw4",
        "outputId": "cd0dcfed-303f-4757-ee54-0cba512523cd"
      },
      "execution_count": 201,
      "outputs": [
        {
          "output_type": "error",
          "ename": "EOFError",
          "evalue": "ignored",
          "traceback": [
            "\u001b[0;31m---------------------------------------------------------------------------\u001b[0m",
            "\u001b[0;31mEOFError\u001b[0m                                  Traceback (most recent call last)",
            "\u001b[0;32m<ipython-input-201-16a172490ff4>\u001b[0m in \u001b[0;36m<module>\u001b[0;34m()\u001b[0m\n\u001b[0;32m----> 1\u001b[0;31m \u001b[0mtest_features\u001b[0m \u001b[0;34m=\u001b[0m \u001b[0mload_photo_features\u001b[0m\u001b[0;34m(\u001b[0m\u001b[0;34m'features.pkl'\u001b[0m\u001b[0;34m,\u001b[0m\u001b[0mtest2\u001b[0m\u001b[0;34m)\u001b[0m\u001b[0;34m\u001b[0m\u001b[0;34m\u001b[0m\u001b[0m\n\u001b[0m",
            "\u001b[0;32m<ipython-input-164-88b4d1719f1a>\u001b[0m in \u001b[0;36mload_photo_features\u001b[0;34m(filename, dataset)\u001b[0m\n\u001b[1;32m     31\u001b[0m \u001b[0;31m# laod photo features\u001b[0m\u001b[0;34m\u001b[0m\u001b[0;34m\u001b[0m\u001b[0;34m\u001b[0m\u001b[0m\n\u001b[1;32m     32\u001b[0m \u001b[0;32mdef\u001b[0m \u001b[0mload_photo_features\u001b[0m\u001b[0;34m(\u001b[0m\u001b[0mfilename\u001b[0m \u001b[0;34m,\u001b[0m \u001b[0mdataset\u001b[0m\u001b[0;34m)\u001b[0m\u001b[0;34m:\u001b[0m\u001b[0;34m\u001b[0m\u001b[0;34m\u001b[0m\u001b[0m\n\u001b[0;32m---> 33\u001b[0;31m     \u001b[0mall_features\u001b[0m \u001b[0;34m=\u001b[0m \u001b[0mpickle\u001b[0m\u001b[0;34m.\u001b[0m\u001b[0mload\u001b[0m\u001b[0;34m(\u001b[0m\u001b[0mopen\u001b[0m\u001b[0;34m(\u001b[0m\u001b[0mfilename\u001b[0m\u001b[0;34m,\u001b[0m\u001b[0;34m'rb'\u001b[0m\u001b[0;34m)\u001b[0m\u001b[0;34m)\u001b[0m\u001b[0;34m\u001b[0m\u001b[0;34m\u001b[0m\u001b[0m\n\u001b[0m\u001b[1;32m     34\u001b[0m     \u001b[0mfeatures\u001b[0m \u001b[0;34m=\u001b[0m \u001b[0;34m{\u001b[0m\u001b[0mk\u001b[0m\u001b[0;34m+\u001b[0m\u001b[0;34m'.jpg'\u001b[0m \u001b[0;34m:\u001b[0m \u001b[0mall_features\u001b[0m\u001b[0;34m[\u001b[0m\u001b[0mk\u001b[0m\u001b[0;34m]\u001b[0m \u001b[0;32mfor\u001b[0m \u001b[0mk\u001b[0m \u001b[0;32min\u001b[0m \u001b[0mdataset\u001b[0m\u001b[0;34m}\u001b[0m\u001b[0;34m\u001b[0m\u001b[0;34m\u001b[0m\u001b[0m\n\u001b[1;32m     35\u001b[0m     \u001b[0;32mreturn\u001b[0m \u001b[0mfeatures\u001b[0m\u001b[0;34m\u001b[0m\u001b[0;34m\u001b[0m\u001b[0m\n",
            "\u001b[0;31mEOFError\u001b[0m: Ran out of input"
          ]
        }
      ]
    },
    {
      "cell_type": "code",
      "source": [
        "from keras.models import load_model"
      ],
      "metadata": {
        "id": "QF59L5kccUl8"
      },
      "execution_count": 205,
      "outputs": []
    },
    {
      "cell_type": "code",
      "source": [
        "filename = 'model_19.h5'\n",
        "model = load_model(filename)"
      ],
      "metadata": {
        "colab": {
          "base_uri": "https://localhost:8080/",
          "height": 328
        },
        "id": "X98OI0cUcaW_",
        "outputId": "7d1254fc-ed06-43ed-9609-b5e958fec917"
      },
      "execution_count": 208,
      "outputs": [
        {
          "output_type": "error",
          "ename": "OSError",
          "evalue": "ignored",
          "traceback": [
            "\u001b[0;31m---------------------------------------------------------------------------\u001b[0m",
            "\u001b[0;31mOSError\u001b[0m                                   Traceback (most recent call last)",
            "\u001b[0;32m<ipython-input-208-b51f59ab1674>\u001b[0m in \u001b[0;36m<module>\u001b[0;34m()\u001b[0m\n\u001b[1;32m      1\u001b[0m \u001b[0mfilename\u001b[0m \u001b[0;34m=\u001b[0m \u001b[0;34m'model_19.h5'\u001b[0m\u001b[0;34m\u001b[0m\u001b[0;34m\u001b[0m\u001b[0m\n\u001b[0;32m----> 2\u001b[0;31m \u001b[0mmodel\u001b[0m \u001b[0;34m=\u001b[0m \u001b[0mload_model\u001b[0m\u001b[0;34m(\u001b[0m\u001b[0mfilename\u001b[0m\u001b[0;34m)\u001b[0m\u001b[0;34m\u001b[0m\u001b[0;34m\u001b[0m\u001b[0m\n\u001b[0m",
            "\u001b[0;32m/usr/local/lib/python3.7/dist-packages/keras/utils/traceback_utils.py\u001b[0m in \u001b[0;36merror_handler\u001b[0;34m(*args, **kwargs)\u001b[0m\n\u001b[1;32m     65\u001b[0m     \u001b[0;32mexcept\u001b[0m \u001b[0mException\u001b[0m \u001b[0;32mas\u001b[0m \u001b[0me\u001b[0m\u001b[0;34m:\u001b[0m  \u001b[0;31m# pylint: disable=broad-except\u001b[0m\u001b[0;34m\u001b[0m\u001b[0;34m\u001b[0m\u001b[0m\n\u001b[1;32m     66\u001b[0m       \u001b[0mfiltered_tb\u001b[0m \u001b[0;34m=\u001b[0m \u001b[0m_process_traceback_frames\u001b[0m\u001b[0;34m(\u001b[0m\u001b[0me\u001b[0m\u001b[0;34m.\u001b[0m\u001b[0m__traceback__\u001b[0m\u001b[0;34m)\u001b[0m\u001b[0;34m\u001b[0m\u001b[0;34m\u001b[0m\u001b[0m\n\u001b[0;32m---> 67\u001b[0;31m       \u001b[0;32mraise\u001b[0m \u001b[0me\u001b[0m\u001b[0;34m.\u001b[0m\u001b[0mwith_traceback\u001b[0m\u001b[0;34m(\u001b[0m\u001b[0mfiltered_tb\u001b[0m\u001b[0;34m)\u001b[0m \u001b[0;32mfrom\u001b[0m \u001b[0;32mNone\u001b[0m\u001b[0;34m\u001b[0m\u001b[0;34m\u001b[0m\u001b[0m\n\u001b[0m\u001b[1;32m     68\u001b[0m     \u001b[0;32mfinally\u001b[0m\u001b[0;34m:\u001b[0m\u001b[0;34m\u001b[0m\u001b[0;34m\u001b[0m\u001b[0m\n\u001b[1;32m     69\u001b[0m       \u001b[0;32mdel\u001b[0m \u001b[0mfiltered_tb\u001b[0m\u001b[0;34m\u001b[0m\u001b[0;34m\u001b[0m\u001b[0m\n",
            "\u001b[0;32m/usr/local/lib/python3.7/dist-packages/keras/saving/save.py\u001b[0m in \u001b[0;36mload_model\u001b[0;34m(filepath, custom_objects, compile, options)\u001b[0m\n\u001b[1;32m    207\u001b[0m         \u001b[0;32mif\u001b[0m \u001b[0misinstance\u001b[0m\u001b[0;34m(\u001b[0m\u001b[0mfilepath\u001b[0m\u001b[0;34m,\u001b[0m \u001b[0mstr\u001b[0m\u001b[0;34m)\u001b[0m\u001b[0;34m:\u001b[0m\u001b[0;34m\u001b[0m\u001b[0;34m\u001b[0m\u001b[0m\n\u001b[1;32m    208\u001b[0m           \u001b[0;32mif\u001b[0m \u001b[0;32mnot\u001b[0m \u001b[0mtf\u001b[0m\u001b[0;34m.\u001b[0m\u001b[0mio\u001b[0m\u001b[0;34m.\u001b[0m\u001b[0mgfile\u001b[0m\u001b[0;34m.\u001b[0m\u001b[0mexists\u001b[0m\u001b[0;34m(\u001b[0m\u001b[0mfilepath\u001b[0m\u001b[0;34m)\u001b[0m\u001b[0;34m:\u001b[0m\u001b[0;34m\u001b[0m\u001b[0;34m\u001b[0m\u001b[0m\n\u001b[0;32m--> 209\u001b[0;31m             \u001b[0;32mraise\u001b[0m \u001b[0mIOError\u001b[0m\u001b[0;34m(\u001b[0m\u001b[0;34mf'No file or directory found at {filepath}'\u001b[0m\u001b[0;34m)\u001b[0m\u001b[0;34m\u001b[0m\u001b[0;34m\u001b[0m\u001b[0m\n\u001b[0m\u001b[1;32m    210\u001b[0m           \u001b[0;32mif\u001b[0m \u001b[0msaving_utils\u001b[0m\u001b[0;34m.\u001b[0m\u001b[0mis_hdf5_filepath\u001b[0m\u001b[0;34m(\u001b[0m\u001b[0mfilepath\u001b[0m\u001b[0;34m)\u001b[0m \u001b[0;32mand\u001b[0m \u001b[0mh5py\u001b[0m \u001b[0;32mis\u001b[0m \u001b[0;32mNone\u001b[0m\u001b[0;34m:\u001b[0m\u001b[0;34m\u001b[0m\u001b[0;34m\u001b[0m\u001b[0m\n\u001b[1;32m    211\u001b[0m             raise ImportError(\n",
            "\u001b[0;31mOSError\u001b[0m: No file or directory found at model_19.h5"
          ]
        }
      ]
    },
    {
      "cell_type": "code",
      "source": [
        ""
      ],
      "metadata": {
        "id": "_YukuOsXcdLO"
      },
      "execution_count": null,
      "outputs": []
    }
  ]
}